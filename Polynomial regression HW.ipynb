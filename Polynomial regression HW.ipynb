{
  "nbformat": 4,
  "nbformat_minor": 0,
  "metadata": {
    "colab": {
      "provenance": [],
      "authorship_tag": "ABX9TyMwKKUW+LMSAGWRccS+FlpS",
      "include_colab_link": true
    },
    "kernelspec": {
      "name": "python3",
      "display_name": "Python 3"
    },
    "language_info": {
      "name": "python"
    }
  },
  "cells": [
    {
      "cell_type": "markdown",
      "metadata": {
        "id": "view-in-github",
        "colab_type": "text"
      },
      "source": [
        "<a href=\"https://colab.research.google.com/github/Janggyu-Shin/ML/blob/main/Polynomial%20regression%20HW.ipynb\" target=\"_parent\"><img src=\"https://colab.research.google.com/assets/colab-badge.svg\" alt=\"Open In Colab\"/></a>"
      ]
    },
    {
      "cell_type": "code",
      "execution_count": 1,
      "metadata": {
        "id": "1RVsHzEkWU4I"
      },
      "outputs": [],
      "source": [
        "#필요한 라이브러리 import\n",
        "import pandas as pd\n",
        "from sklearn.model_selection import cross_val_score, KFold, train_test_split\n",
        "from sklearn.preprocessing import PolynomialFeatures\n",
        "from sklearn.linear_model import LinearRegression\n",
        "from sklearn.pipeline import make_pipeline\n",
        "import numpy as np\n",
        "import matplotlib.pyplot as plt"
      ]
    },
    {
      "cell_type": "code",
      "source": [
        "#data load\n",
        "data = pd.read_csv('https://raw.githubusercontent.com/Janggyu-Shin/ML/refs/heads/main/concrete_data.csv')\n",
        "\n",
        "#8개의 전체 feature(X)와 목표값(y) 분리\n",
        "X = data.drop(columns=['concrete_compressive_strength'])\n",
        "y = data['concrete_compressive_strength']\n",
        "\n",
        "#5-fold cross validation\n",
        "kf = KFold(n_splits=5, shuffle=True, random_state=42)\n",
        "\n",
        "#사용할 다항식 차수 설정\n",
        "degrees = [1, 2, 3, 4, 5]\n",
        "\n",
        "#결과 저장을 위한 dictionary\n",
        "results = {}\n",
        "\n",
        "#각 차수별로 polynomial regression 모델 적용 및 cross validation RMSE 계산\n",
        "for degree in degrees:\n",
        "    #polynomial regression 파이프라인 생성\n",
        "    model = make_pipeline(PolynomialFeatures(degree), LinearRegression())\n",
        "\n",
        "    #cross validation 실행 및 RMSE 계산\n",
        "    scores = cross_val_score(model, X, y, cv=kf, scoring='neg_mean_squared_error')\n",
        "    rmse_scores = np.sqrt(-scores)  #MSE는 음수를 반환하므로 다시 양수로 변환 후 RMSE 계산\n",
        "\n",
        "    #결과 저장\n",
        "    results[degree] = rmse_scores.mean()\n",
        "\n",
        "#최적의 다항식 차수 선택\n",
        "best_degree = min(results, key=results.get)\n",
        "print(f\"최적의 다항식 차수: {best_degree}차\")"
      ],
      "metadata": {
        "id": "liQzlIiXeWal",
        "outputId": "c74ed0eb-b6c0-4473-9baa-e982092cd9d4",
        "colab": {
          "base_uri": "https://localhost:8080/"
        }
      },
      "execution_count": 2,
      "outputs": [
        {
          "output_type": "stream",
          "name": "stdout",
          "text": [
            "최적의 다항식 차수: 3차\n"
          ]
        }
      ]
    }
  ]
}